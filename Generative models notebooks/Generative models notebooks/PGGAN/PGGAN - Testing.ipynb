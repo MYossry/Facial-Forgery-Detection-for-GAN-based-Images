{
  "nbformat": 4,
  "nbformat_minor": 0,
  "metadata": {
    "colab": {
      "name": "PGGAN.ipynb",
      "provenance": []
    },
    "kernelspec": {
      "name": "python3",
      "display_name": "Python 3"
    },
    "accelerator": "TPU"
  },
  "cells": [
    {
      "cell_type": "code",
      "metadata": {
        "id": "xhcjqkKezhqw",
        "colab_type": "code",
        "colab": {
          "base_uri": "https://localhost:8080/",
          "height": 122
        },
        "outputId": "379eacc0-518c-4f06-908c-608fb14c7d79"
      },
      "source": [
        "from google.colab import drive\n",
        "drive.mount('/content/drive')"
      ],
      "execution_count": null,
      "outputs": [
        {
          "output_type": "stream",
          "text": [
            "Go to this URL in a browser: https://accounts.google.com/o/oauth2/auth?client_id=947318989803-6bn6qk8qdgf4n4g3pfee6491hc0brc4i.apps.googleusercontent.com&redirect_uri=urn%3aietf%3awg%3aoauth%3a2.0%3aoob&response_type=code&scope=email%20https%3a%2f%2fwww.googleapis.com%2fauth%2fdocs.test%20https%3a%2f%2fwww.googleapis.com%2fauth%2fdrive%20https%3a%2f%2fwww.googleapis.com%2fauth%2fdrive.photos.readonly%20https%3a%2f%2fwww.googleapis.com%2fauth%2fpeopleapi.readonly\n",
            "\n",
            "Enter your authorization code:\n",
            "··········\n",
            "Mounted at /content/drive\n"
          ],
          "name": "stdout"
        }
      ]
    },
    {
      "cell_type": "code",
      "metadata": {
        "id": "VrtBkREZ24Ia",
        "colab_type": "code",
        "colab": {
          "base_uri": "https://localhost:8080/",
          "height": 102
        },
        "outputId": "d701cdf8-371c-4c18-821e-3889d2230c92"
      },
      "source": [
        "!git clone https://github.com/tkarras/progressive_growing_of_gans"
      ],
      "execution_count": null,
      "outputs": [
        {
          "output_type": "stream",
          "text": [
            "Cloning into 'progressive_growing_of_gans'...\n",
            "remote: Enumerating objects: 155, done.\u001b[K\n",
            "remote: Total 155 (delta 0), reused 0 (delta 0), pack-reused 155\n",
            "Receiving objects: 100% (155/155), 350.22 KiB | 8.34 MiB/s, done.\n",
            "Resolving deltas: 100% (79/79), done.\n"
          ],
          "name": "stdout"
        }
      ]
    },
    {
      "cell_type": "code",
      "metadata": {
        "id": "lFEuturX0QZH",
        "colab_type": "code",
        "colab": {}
      },
      "source": [
        "#!pip install tensorflow==1.6\n",
        "\n",
        "import pickle\n",
        "import numpy as np\n",
        "import tensorflow as tf\n",
        "import PIL.Image\n",
        "print(tf.version)\n",
        "# Initialize TensorFlow session.\n",
        "tf.InteractiveSession()\n",
        "from random import randrange\n",
        "\n",
        "# Import official CelebA-HQ networks.\n",
        "with open('/content/drive/My Drive/karras2018iclr-celebahq-1024x1024.pkl', 'rb') as file:\n",
        "    G, D, Gs = pickle.load(file)\n",
        "cnt = 0\n",
        "latents = np.random.RandomState(1000).randn(500000, *Gs.input_shapes[0][1:]) # 1000 random latents\n",
        "\n",
        "for i in range(1000):\n",
        "    # Generate latent vectors.\n",
        "    '''\n",
        "    if i == 0:\n",
        "        latents = latents[[477, 56, 83, 887, 583, 391, 86, 340, 341, 415]] # hand-picked top-10\n",
        "    else:\n",
        "    '''\n",
        "    #latents = latents[[randrange(200000), randrange(200000), randrange(200000), randrange(200000), randrange(200000), randrange(200000), randrange(200000), randrange(200000), randrange(200000), randrange(200000)]]\n",
        "    \n",
        "    # Generate dummy labels (not used by the official networks).\n",
        "    labels = np.zeros([latents[[randrange(500000), randrange(500000), randrange(500000), randrange(500000), randrange(500000), randrange(500000), randrange(500000), randrange(500000), randrange(500000), randrange(500000)]].shape[0]] + Gs.input_shapes[1][1:])\n",
        "\n",
        "    # Run the generator to produce a set of images.\n",
        "    images = Gs.run(latents[[randrange(500000), randrange(500000), randrange(500000), randrange(500000), randrange(500000), randrange(500000), randrange(500000), randrange(500000), randrange(500000), randrange(500000)]], labels)\n",
        "\n",
        "    # Convert images to PIL-compatible format.\n",
        "    images = np.clip(np.rint((images + 1.0) / 2.0 * 255.0), 0.0, 255.0).astype(np.uint8) # [-1,1] => [0,255]\n",
        "    images = images.transpose(0, 2, 3, 1) # NCHW => NHWC\n",
        "\n",
        "    # Save images as PNG.\n",
        "    for idx in range(images.shape[0]):\n",
        "        im = PIL.Image.fromarray(images[idx], 'RGB')\n",
        "        im.resize((64,64)).save('/content/drive/My Drive/PGGAN/samples10K1/img%d.png' % cnt)\n",
        "        cnt += 1\n",
        "        print(cnt)"
      ],
      "execution_count": null,
      "outputs": []
    }
  ]
}